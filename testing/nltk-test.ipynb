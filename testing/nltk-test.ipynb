{
 "metadata": {
  "language_info": {
   "codemirror_mode": {
    "name": "ipython",
    "version": 3
   },
   "file_extension": ".py",
   "mimetype": "text/x-python",
   "name": "python",
   "nbconvert_exporter": "python",
   "pygments_lexer": "ipython3",
   "version": "3.7.7-final"
  },
  "orig_nbformat": 2,
  "kernelspec": {
   "name": "python_defaultSpec_1596660625289",
   "display_name": "Python 3.7.7 64-bit ('ap_research_testing': conda)"
  }
 },
 "nbformat": 4,
 "nbformat_minor": 2,
 "cells": [
  {
   "cell_type": "code",
   "execution_count": 15,
   "metadata": {},
   "outputs": [],
   "source": [
    "import requests\n",
    "from Bio import Entrez\n",
    "Entrez.email = 'zadaum10@gmail.com'"
   ]
  },
  {
   "cell_type": "code",
   "execution_count": 17,
   "metadata": {
    "tags": []
   },
   "outputs": [],
   "source": [
    "#get data\n",
    "with open('data/rand_pmids.txt','r') as rand_pids: \n",
    "    rand_pids = rand_pids.readlines()\n",
    "    idlist = ''.join(rand_pids).replace(\"PMID:\", \"\").splitlines()\n",
    "    \n",
    "    for pmid in idlist: \n",
    "        if not os.path.isfile(pmid):\n",
    "            working_req = Entrez.efetch(db='pubmed', id=pmid, rettype='full',retmode='xml')\n",
    "            ret = open('data/result/'+pmid,'w')\n",
    "            ret.write(str(working_req.read()))\n",
    "            ret.close()\n",
    "            working_req.close()\n",
    "            #print(working_req.read())\n"
   ]
  },
  {
   "cell_type": "code",
   "execution_count": 19,
   "metadata": {
    "tags": []
   },
   "outputs": [],
   "source": [
    "#parse xml for abstracts\n"
   ]
  },
  {
   "cell_type": "code",
   "execution_count": null,
   "metadata": {},
   "outputs": [],
   "source": []
  }
 ]
}