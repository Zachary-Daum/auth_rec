{
 "metadata": {
  "language_info": {
   "codemirror_mode": {
    "name": "ipython",
    "version": 3
   },
   "file_extension": ".py",
   "mimetype": "text/x-python",
   "name": "python",
   "nbconvert_exporter": "python",
   "pygments_lexer": "ipython3",
   "version": "3.7.7-final"
  },
  "orig_nbformat": 2,
  "kernelspec": {
   "name": "python_defaultSpec_1597673659060",
   "display_name": "Python 3.7.7 64-bit ('ap_research_testing': conda)"
  }
 },
 "nbformat": 4,
 "nbformat_minor": 2,
 "cells": [
  {
   "cell_type": "code",
   "execution_count": 1,
   "metadata": {},
   "outputs": [],
   "source": [
    "import pandas as pd\n",
    "import os\n",
    "import nltk\n",
    "\n",
    "auth_list = os.listdir('data/testing-sets/C50train')"
   ]
  },
  {
   "cell_type": "code",
   "execution_count": 2,
   "metadata": {
    "tags": []
   },
   "outputs": [],
   "source": [
    "#assemble dictionary grouping of authors with their articles\n",
    "articles = {}\n",
    "for author in auth_list:\n",
    "    auth_articles = os.listdir('data/testing-sets/C50train/'+author)\n",
    "    articles.update({author:auth_articles})"
   ]
  },
  {
   "cell_type": "code",
   "execution_count": 6,
   "metadata": {},
   "outputs": [],
   "source": [
    "#assembling author & general corpus\n",
    "whole_corpus = ''\n",
    "each_author_corpus = {}\n",
    "for author in auth_list:\n",
    "    author_corpus = ''\n",
    "    for article_name in articles[author]:\n",
    "        author_corpus += open('data/testing-sets/C50train/'+author+'/'+article_name,'r').read().lower()\n",
    "    whole_corpus += author_corpus #append to general corpus\n",
    "    #process author corpus\n",
    "    each_author_corpus.update({author:nltk.word_tokenize(author_corpus)})\n",
    "#process general corpus\n",
    "whole_corpus_tokenized = nltk.word_tokenize(whole_corpus)"
   ]
  },
  {
   "cell_type": "code",
   "execution_count": 7,
   "metadata": {},
   "outputs": [],
   "source": [
    "#whole_corpus analysis\n",
    "whole_corpus_len = len(whole_corpus_tokenized)\n",
    "whole_corpus_freq_dist = list(nltk.FreqDist(whole_corpus_tokenized).most_common(100))\n",
    "whole_corpus_feature_probability = {}\n",
    "for feature in whole_corpus_freq_dist:\n",
    "    whole_corpus_feature_probability.update({feature[0]:feature[1] / whole_corpus_len})\n",
    "#author analysis\n",
    "each_author_feature_probability = {}\n",
    "for author in auth_list:\n",
    "    working_auth_corpus = each_author_corpus[author]\n",
    "    working_auth_corpus_len = len(working_auth_corpus)\n",
    "    working_auth_corpus_freq_dist = list(nltk.FreqDist(working_auth_corpus).most_common(100))\n",
    "    working_auth_corpus_feature_probability = {}\n",
    "    for feature in working_auth_corpus_freq_dist:\n",
    "        working_auth_corpus_feature_probability.update({feature[0]:feature[1] / working_auth_corpus_len})\n",
    "    each_author_feature_probability.update({author:working_auth_corpus_feature_probability})"
   ]
  },
  {
   "cell_type": "code",
   "execution_count": null,
   "metadata": {},
   "outputs": [],
   "source": []
  }
 ]
}