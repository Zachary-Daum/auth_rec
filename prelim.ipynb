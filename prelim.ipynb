{
 "metadata": {
  "language_info": {
   "codemirror_mode": {
    "name": "ipython",
    "version": 3
   },
   "file_extension": ".py",
   "mimetype": "text/x-python",
   "name": "python",
   "nbconvert_exporter": "python",
   "pygments_lexer": "ipython3",
   "version": 3
  },
  "orig_nbformat": 2,
  "kernelspec": {
   "name": "python_defaultSpec_1597326165689",
   "display_name": "Python 3.7.7 64-bit ('ap_research_testing': conda)"
  }
 },
 "nbformat": 4,
 "nbformat_minor": 2,
 "cells": [
  {
   "cell_type": "code",
   "execution_count": 1,
   "metadata": {},
   "outputs": [],
   "source": [
    "import pandas as pd\n",
    "import os"
   ]
  },
  {
   "cell_type": "code",
   "execution_count": 13,
   "metadata": {
    "tags": []
   },
   "outputs": [],
   "source": [
    "#get file names\n",
    "training_authors = os.listdir('data/testing-sets')\n",
    "for author in training_authors:\n",
    "    author_articles = os.listdir('data/testing-sets/' + author)\n",
    "    n_article = 0\n",
    "    while n_article<2:\n",
    "        working_article = open('data/testing-sets/' + author +'/'+ author_articles[n_article]).read()\n",
    "        print(working_article)\n",
    "        n_article=n_article+1\n",
    "\n",
    "#parse data for txt (create df of text)\n"
   ]
  },
  {
   "cell_type": "code",
   "execution_count": null,
   "metadata": {},
   "outputs": [],
   "source": [
    "#gather data (character n-grams, word frequency, word/sentence length, POS frequency, sentence structure, paragraph length, formatting)\n",
    "#break down by sentence"
   ]
  },
  {
   "cell_type": "code",
   "execution_count": null,
   "metadata": {},
   "outputs": [],
   "source": [
    "#author segmentation"
   ]
  },
  {
   "cell_type": "code",
   "execution_count": null,
   "metadata": {},
   "outputs": [],
   "source": [
    "#train on 20% of n and 80% of authors\n",
    "#xgboost, KNN, PCA"
   ]
  },
  {
   "cell_type": "code",
   "execution_count": null,
   "metadata": {},
   "outputs": [],
   "source": [
    "#test & refine + test for overfitting"
   ]
  }
 ]
}