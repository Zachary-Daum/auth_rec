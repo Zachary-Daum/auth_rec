{
 "metadata": {
  "language_info": {
   "codemirror_mode": {
    "name": "ipython",
    "version": 3
   },
   "file_extension": ".py",
   "mimetype": "text/x-python",
   "name": "python",
   "nbconvert_exporter": "python",
   "pygments_lexer": "ipython3",
   "version": "3.7.7-final"
  },
  "orig_nbformat": 2,
  "kernelspec": {
   "name": "python_defaultSpec_1597588519720",
   "display_name": "Python 3.7.7 64-bit ('ap_research_testing': conda)"
  }
 },
 "nbformat": 4,
 "nbformat_minor": 2,
 "cells": [
  {
   "cell_type": "code",
   "execution_count": 6,
   "metadata": {},
   "outputs": [],
   "source": [
    "import pandas as pd\n",
    "import os\n",
    "import nltk\n",
    "%matplotlib inline"
   ]
  },
  {
   "cell_type": "code",
   "execution_count": 7,
   "metadata": {
    "tags": []
   },
   "outputs": [],
   "source": [
    "#assemble dictionary grouping of authors with their articles\n",
    "articles = {}\n",
    "for author in os.listdir('data/testing-sets/C50train'):\n",
    "    auth_articles = os.listdir('data/testing-sets/C50train/'+author)\n",
    "    articles.update({author:auth_articles})"
   ]
  },
  {
   "cell_type": "code",
   "execution_count": 12,
   "metadata": {
    "tags": []
   },
   "outputs": [],
   "source": [
    "#assemble full corpus\n",
    "whole_corpus = ''\n",
    "for author in os.listdir('data/testing-sets/C50train'):\n",
    "    for article_name in articles[author]:\n",
    "        whole_corpus += open('data/testing-sets/C50train/'+author+'/'+article_name).read()\n",
    "whole_corpus_tokenized = nltk.word_tokenize(whole_corpus)"
   ]
  },
  {
   "cell_type": "code",
   "execution_count": null,
   "metadata": {},
   "outputs": [],
   "source": [
    "#feature analysis\n"
   ]
  }
 ]
}