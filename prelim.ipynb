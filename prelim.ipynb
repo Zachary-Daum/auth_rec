{
 "metadata": {
  "language_info": {
   "codemirror_mode": {
    "name": "ipython",
    "version": 3
   },
   "file_extension": ".py",
   "mimetype": "text/x-python",
   "name": "python",
   "nbconvert_exporter": "python",
   "pygments_lexer": "ipython3",
   "version": "3.7.7-final"
  },
  "orig_nbformat": 2,
  "kernelspec": {
   "name": "python_defaultSpec_1597332197621",
   "display_name": "Python 3.7.7 64-bit ('ap_research_testing': conda)"
  }
 },
 "nbformat": 4,
 "nbformat_minor": 2,
 "cells": [
  {
   "cell_type": "code",
   "execution_count": 5,
   "metadata": {},
   "outputs": [],
   "source": [
    "import pandas as pd\n",
    "import os"
   ]
  },
  {
   "cell_type": "code",
   "execution_count": 23,
   "metadata": {
    "tags": []
   },
   "outputs": [],
   "source": [
    "#get file names\n",
    "training_authors = os.listdir('data/testing-sets/C50train')\n",
    "for author in training_authors:\n",
    "    article_list = os.listdir('data/testing-sets/C50train/'+author)\n",
    "    author_df = pd.DataFrame(columns=['ARTICLE_NM','ARTICLE_ARTICLE_TXT']) #then add metrics\n",
    "    n=0\n",
    "    while n<len(article_list):\n",
    "        author_df = author_df.append([article_list[n],open('data/testing-sets/C50train/'+author+'/'+article_list[n]).read()])\n",
    "        #then calcuate metrics\n",
    "        n=n+1\n",
    "    author_df.to_csv('data/results/'+author+'.csv',index=False)"
   ]
  },
  {
   "cell_type": "code",
   "execution_count": null,
   "metadata": {},
   "outputs": [],
   "source": [
    "#gather data (character n-grams, word frequency, word/sentence length, POS frequency, sentence structure, paragraph length, formatting)\n",
    "#break down by sentence"
   ]
  },
  {
   "cell_type": "code",
   "execution_count": null,
   "metadata": {},
   "outputs": [],
   "source": [
    "#author segmentation"
   ]
  },
  {
   "cell_type": "code",
   "execution_count": null,
   "metadata": {},
   "outputs": [],
   "source": [
    "#train on 20% of n and 80% of authors\n",
    "#xgboost, KNN, PCA"
   ]
  },
  {
   "cell_type": "code",
   "execution_count": null,
   "metadata": {},
   "outputs": [],
   "source": [
    "#test & refine + test for overfitting"
   ]
  }
 ]
}