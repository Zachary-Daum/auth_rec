{
 "metadata": {
  "language_info": {
   "codemirror_mode": {
    "name": "ipython",
    "version": 3
   },
   "file_extension": ".py",
   "mimetype": "text/x-python",
   "name": "python",
   "nbconvert_exporter": "python",
   "pygments_lexer": "ipython3",
   "version": 3
  },
  "orig_nbformat": 2,
  "kernelspec": {
   "name": "python_defaultSpec_1596654795676",
   "display_name": "Python 3.7.7 64-bit ('ap_research_testing': conda)"
  }
 },
 "nbformat": 4,
 "nbformat_minor": 2,
 "cells": [
  {
   "cell_type": "code",
   "execution_count": 9,
   "metadata": {
    "tags": []
   },
   "outputs": [
    {
     "output_type": "stream",
     "name": "stdout",
     "text": "<bound method PageObject.extractText of {'/CropBox': [0, 0, 595.276, 782.362], '/Parent': IndirectObject(4, 0), '/Type': '/Page', '/Contents': IndirectObject(5, 0), '/Resources': IndirectObject(6, 0), '/Thumb': IndirectObject(7, 0), '/MediaBox': [0, 0, 595.276, 782.362], '/Annots': IndirectObject(8, 0), '/Rotate': 0}>\n"
    }
   ],
   "source": [
    "from PyPDF2 import PdfFileReader\n",
    "\n",
    "with open(\"data/downloaded/41598_2020_Article_69802.pdf\", 'rb') as test_file:\n",
    "    working_file = PdfFileReader(test_file)\n",
    "    n = 0\n",
    "    n_pages = working_file.getNumPages()\n",
    "    page_n = working_file.getPage(1)\n",
    "    print(page_n.extractText)\n",
    "    #while n<n_pages:\n",
    "        \n",
    "        #n=n+1\n"
   ]
  },
  {
   "cell_type": "code",
   "execution_count": null,
   "metadata": {},
   "outputs": [],
   "source": []
  }
 ]
}